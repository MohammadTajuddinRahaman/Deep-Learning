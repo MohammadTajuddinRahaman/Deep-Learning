{
 "cells": [
  {
   "cell_type": "markdown",
   "id": "f2b1d2d5-22c1-4a61-907c-a942ac38d35b",
   "metadata": {},
   "source": [
    "# ANN\n",
    "🧠 What is an Artificial Neural Network (ANN)?\n",
    "An Artificial Neural Network is a computational model inspired by the way biological neural networks in the human brain work. It is made up of interconnected nodes (neurons) that process information in layers.\n",
    "\n",
    "📌 ANN Structure\n",
    "An ANN typically consists of 3 types of layers:\n",
    "\n",
    "Input Layer: Receives the raw data (e.g., pixels of an image).\n",
    "\n",
    "Hidden Layer(s): Where computation and pattern extraction happen.\n",
    "\n",
    "Output Layer: Gives the final result (e.g., classifies a cat/dog).\n",
    "🧠 What is an Artificial Neural Network (ANN)?\n",
    "An Artificial Neural Network is a computational model inspired by the way biological neural networks in the human brain work. It is made up of interconnected nodes (neurons) that process information in layers.\n",
    "\n",
    "📌 ANN Structure\n",
    "An ANN typically consists of 3 types of layers:\n",
    "\n",
    "Input Layer: Receives the raw data (e.g., pixels of an image).\n",
    "\n",
    "Hidden Layer(s): Where computation and pattern extraction happen.\n",
    "\n",
    "Output Layer: Gives the final result (e.g., classifies a cat/dog).\n",
    "\n",
    "🔗 Each neuron performs:\n",
    "Output\n",
    "=\n",
    "𝑓\n",
    "(\n",
    "𝑤\n",
    "1\n",
    "𝑥\n",
    "1\n",
    "+\n",
    "𝑤\n",
    "2\n",
    "𝑥\n",
    "2\n",
    "+\n",
    ".\n",
    ".\n",
    ".\n",
    "+\n",
    "𝑤\n",
    "𝑛\n",
    "𝑥\n",
    "𝑛\n",
    "+\n",
    "𝑏\n",
    ")\n",
    "Output=f(w \n",
    "1\n",
    "​\n",
    " x \n",
    "1\n",
    "​\n",
    " +w \n",
    "2\n",
    "​\n",
    " x \n",
    "2\n",
    "​\n",
    " +...+w \n",
    "n\n",
    "​\n",
    " x \n",
    "n\n",
    "​\n",
    " +b)\n",
    "𝑤\n",
    "w: weights\n",
    "\n",
    "𝑥\n",
    "x: inputs\n",
    "\n",
    "𝑏\n",
    "b: bias\n",
    "\n",
    "𝑓\n",
    "f: activation function (e.g., sigmoid, ReLU)\n",
    "\n",
    "📊 Working of ANN (Step-by-Step)\n",
    "1. Initialization\n",
    "Random weights and biases are assigned.\n",
    "\n",
    "Training data is input.\n",
    "\n",
    "2. Forward Propagation\n",
    "Data flows layer by layer, computing:\n",
    "\n",
    "𝑧\n",
    "=\n",
    "𝑤\n",
    "⋅\n",
    "𝑥\n",
    "+\n",
    "𝑏\n",
    "𝑎\n",
    "=\n",
    "activation\n",
    "(\n",
    "𝑧\n",
    ")\n",
    "z=w⋅x+b\n",
    "a=activation(z)\n",
    "For each neuron, the output becomes the input to the next layer.\n",
    "\n",
    "3. Loss Calculation\n",
    "After the output layer, the prediction \n",
    "𝑦\n",
    "^\n",
    "y\n",
    "^\n",
    "​\n",
    "  is compared to the true value \n",
    "𝑦\n",
    "y using a loss function:\n",
    "\n",
    "𝐿\n",
    "=\n",
    "1\n",
    "2\n",
    "(\n",
    "𝑦\n",
    "−\n",
    "𝑦\n",
    "^\n",
    ")\n",
    "2\n",
    "L= \n",
    "2\n",
    "1\n",
    "​\n",
    " (y− \n",
    "y\n",
    "^\n",
    "​\n",
    " ) \n",
    "2\n",
    " \n",
    "or for classification: cross-entropy loss\n",
    "\n",
    "4. Backpropagation\n",
    "As explained earlier, backpropagation computes the gradient of the loss with respect to each weight by applying the chain rule.\n",
    "\n",
    "It figures out how much each weight contributed to the error and adjusts accordingly.\n",
    "\n",
    "5. Weight Update\n",
    "Weights are updated using gradient descent:\n",
    "\n",
    "𝑤\n",
    "=\n",
    "𝑤\n",
    "−\n",
    "𝜂\n",
    "⋅\n",
    "∂\n",
    "𝐿\n",
    "∂\n",
    "𝑤\n",
    "w=w−η⋅ \n",
    "∂w\n",
    "∂L\n",
    "​\n",
    " \n",
    "𝜂\n",
    "η: learning rate\n",
    "\n",
    "\n",
    "\n",
    "📊 Working of ANN (Step-by-Step)\n",
    "1. Initialization\n",
    "Random weights and biases are assigned.\n",
    "\n",
    "Training data is input.\n",
    "\n",
    "2. Forward Propagation\n",
    "Data flows layer by layer, computing:\n",
    "\n",
    "𝑧\n",
    "=\n",
    "𝑤\n",
    "⋅\n",
    "𝑥\n",
    "+\n",
    "𝑏\n",
    "𝑎\n",
    "=\n",
    "activation\n",
    "(\n",
    "𝑧\n",
    ")\n",
    "z=w⋅x+b\n",
    "a=activation(z)\n",
    "For each neuron, the output becomes the input to the next layer.\n",
    "\n",
    "3. Loss Calculation\n",
    "After the output layer, the prediction \n",
    "𝑦\n",
    "^\n",
    "y\n",
    "^\n",
    "​\n",
    "  is compared to the true value \n",
    "𝑦\n",
    "y using a loss function:\n",
    "\n",
    "𝐿\n",
    "=\n",
    "1\n",
    "2\n",
    "(\n",
    "𝑦\n",
    "−\n",
    "𝑦\n",
    "^\n",
    ")\n",
    "2\n",
    "L= \n",
    "2\n",
    "1\n",
    "​\n",
    " (y− \n",
    "y\n",
    "^\n",
    "​\n",
    " ) \n",
    "2\n",
    " \n",
    "or for classification: cross-entropy loss\n",
    "\n",
    "4. Backpropagation\n",
    "As explained earlier, backpropagation computes the gradient of the loss with respect to each weight by applying the chain rule.\n",
    "\n",
    "It figures out how much each weight contributed to the error and adjusts accordingly.\n",
    "\n",
    "5. Weight Update\n",
    "Weights are updated using gradient descent:\n",
    "\n",
    "𝑤\n",
    "=\n",
    "𝑤\n",
    "−\n",
    "𝜂\n",
    "⋅\n",
    "∂\n",
    "𝐿\n",
    "∂\n",
    "𝑤\n",
    "w=w−η⋅ \n",
    "∂w\n",
    "∂L\n",
    "​\n",
    " \n",
    "𝜂\n",
    "η: learning rate\n",
    "\n"
   ]
  },
  {
   "cell_type": "code",
   "execution_count": 1,
   "id": "92509dc9-7a6a-4bc2-9a53-6c69a0278041",
   "metadata": {},
   "outputs": [],
   "source": [
    "import tensorflow as tf\n",
    "from tensorflow.keras.models import Sequential\n",
    "from tensorflow.keras.layers import Dense, Flatten\n",
    "from tensorflow.keras.optimizers import Adam\n",
    "from tensorflow.keras.datasets import mnist\n",
    "from tensorflow.keras.losses import SparseCategoricalCrossentropy\n",
    "from tensorflow.keras.metrics import SparseCategoricalAccuracy"
   ]
  },
  {
   "cell_type": "code",
   "execution_count": 3,
   "id": "127ae481-cc87-4c1a-ad24-956b65727090",
   "metadata": {},
   "outputs": [
    {
     "name": "stdout",
     "output_type": "stream",
     "text": [
      "<module 'keras.datasets.mnist' from 'C:\\\\Users\\\\tajud\\\\anaconda3\\\\Lib\\\\site-packages\\\\keras\\\\datasets\\\\mnist\\\\__init__.py'>\n"
     ]
    }
   ],
   "source": [
    "print(mnist)"
   ]
  },
  {
   "cell_type": "code",
   "execution_count": 5,
   "id": "883132aa-8426-498d-95a7-2568f91b46b8",
   "metadata": {},
   "outputs": [],
   "source": [
    "(x_train, y_train), (x_test, y_test) = mnist.load_data()"
   ]
  },
  {
   "cell_type": "code",
   "execution_count": 7,
   "id": "96abafcf-6c8a-42e5-bd40-76295967c995",
   "metadata": {},
   "outputs": [
    {
     "data": {
      "text/plain": [
       "28"
      ]
     },
     "execution_count": 7,
     "metadata": {},
     "output_type": "execute_result"
    }
   ],
   "source": [
    "len(x_train[0][0])"
   ]
  },
  {
   "cell_type": "code",
   "execution_count": 9,
   "id": "abc22bf0-5e16-4a7c-82ac-7735ecc5a269",
   "metadata": {},
   "outputs": [
    {
     "name": "stderr",
     "output_type": "stream",
     "text": [
      "C:\\Users\\tajud\\anaconda3\\Lib\\site-packages\\keras\\src\\layers\\reshaping\\flatten.py:37: UserWarning: Do not pass an `input_shape`/`input_dim` argument to a layer. When using Sequential models, prefer using an `Input(shape)` object as the first layer in the model instead.\n",
      "  super().__init__(**kwargs)\n"
     ]
    }
   ],
   "source": [
    "model = Sequential([\n",
    "    Flatten(input_shape=(28, 28)),\n",
    "    Dense(128, activation='relu'),\n",
    "    Dense(10, activation='softmax')\n",
    "])"
   ]
  },
  {
   "cell_type": "code",
   "execution_count": 11,
   "id": "5c2ececb-0a0e-4cad-90ff-f98a92f4f94c",
   "metadata": {},
   "outputs": [
    {
     "data": {
      "text/html": [
       "<pre style=\"white-space:pre;overflow-x:auto;line-height:normal;font-family:Menlo,'DejaVu Sans Mono',consolas,'Courier New',monospace\"><span style=\"font-weight: bold\">Model: \"sequential\"</span>\n",
       "</pre>\n"
      ],
      "text/plain": [
       "\u001b[1mModel: \"sequential\"\u001b[0m\n"
      ]
     },
     "metadata": {},
     "output_type": "display_data"
    },
    {
     "data": {
      "text/html": [
       "<pre style=\"white-space:pre;overflow-x:auto;line-height:normal;font-family:Menlo,'DejaVu Sans Mono',consolas,'Courier New',monospace\">┏━━━━━━━━━━━━━━━━━━━━━━━━━━━━━━━━━━━━━━┳━━━━━━━━━━━━━━━━━━━━━━━━━━━━━┳━━━━━━━━━━━━━━━━━┓\n",
       "┃<span style=\"font-weight: bold\"> Layer (type)                         </span>┃<span style=\"font-weight: bold\"> Output Shape                </span>┃<span style=\"font-weight: bold\">         Param # </span>┃\n",
       "┡━━━━━━━━━━━━━━━━━━━━━━━━━━━━━━━━━━━━━━╇━━━━━━━━━━━━━━━━━━━━━━━━━━━━━╇━━━━━━━━━━━━━━━━━┩\n",
       "│ flatten (<span style=\"color: #0087ff; text-decoration-color: #0087ff\">Flatten</span>)                    │ (<span style=\"color: #00d7ff; text-decoration-color: #00d7ff\">None</span>, <span style=\"color: #00af00; text-decoration-color: #00af00\">784</span>)                 │               <span style=\"color: #00af00; text-decoration-color: #00af00\">0</span> │\n",
       "├──────────────────────────────────────┼─────────────────────────────┼─────────────────┤\n",
       "│ dense (<span style=\"color: #0087ff; text-decoration-color: #0087ff\">Dense</span>)                        │ (<span style=\"color: #00d7ff; text-decoration-color: #00d7ff\">None</span>, <span style=\"color: #00af00; text-decoration-color: #00af00\">128</span>)                 │         <span style=\"color: #00af00; text-decoration-color: #00af00\">100,480</span> │\n",
       "├──────────────────────────────────────┼─────────────────────────────┼─────────────────┤\n",
       "│ dense_1 (<span style=\"color: #0087ff; text-decoration-color: #0087ff\">Dense</span>)                      │ (<span style=\"color: #00d7ff; text-decoration-color: #00d7ff\">None</span>, <span style=\"color: #00af00; text-decoration-color: #00af00\">10</span>)                  │           <span style=\"color: #00af00; text-decoration-color: #00af00\">1,290</span> │\n",
       "└──────────────────────────────────────┴─────────────────────────────┴─────────────────┘\n",
       "</pre>\n"
      ],
      "text/plain": [
       "┏━━━━━━━━━━━━━━━━━━━━━━━━━━━━━━━━━━━━━━┳━━━━━━━━━━━━━━━━━━━━━━━━━━━━━┳━━━━━━━━━━━━━━━━━┓\n",
       "┃\u001b[1m \u001b[0m\u001b[1mLayer (type)                        \u001b[0m\u001b[1m \u001b[0m┃\u001b[1m \u001b[0m\u001b[1mOutput Shape               \u001b[0m\u001b[1m \u001b[0m┃\u001b[1m \u001b[0m\u001b[1m        Param #\u001b[0m\u001b[1m \u001b[0m┃\n",
       "┡━━━━━━━━━━━━━━━━━━━━━━━━━━━━━━━━━━━━━━╇━━━━━━━━━━━━━━━━━━━━━━━━━━━━━╇━━━━━━━━━━━━━━━━━┩\n",
       "│ flatten (\u001b[38;5;33mFlatten\u001b[0m)                    │ (\u001b[38;5;45mNone\u001b[0m, \u001b[38;5;34m784\u001b[0m)                 │               \u001b[38;5;34m0\u001b[0m │\n",
       "├──────────────────────────────────────┼─────────────────────────────┼─────────────────┤\n",
       "│ dense (\u001b[38;5;33mDense\u001b[0m)                        │ (\u001b[38;5;45mNone\u001b[0m, \u001b[38;5;34m128\u001b[0m)                 │         \u001b[38;5;34m100,480\u001b[0m │\n",
       "├──────────────────────────────────────┼─────────────────────────────┼─────────────────┤\n",
       "│ dense_1 (\u001b[38;5;33mDense\u001b[0m)                      │ (\u001b[38;5;45mNone\u001b[0m, \u001b[38;5;34m10\u001b[0m)                  │           \u001b[38;5;34m1,290\u001b[0m │\n",
       "└──────────────────────────────────────┴─────────────────────────────┴─────────────────┘\n"
      ]
     },
     "metadata": {},
     "output_type": "display_data"
    },
    {
     "data": {
      "text/html": [
       "<pre style=\"white-space:pre;overflow-x:auto;line-height:normal;font-family:Menlo,'DejaVu Sans Mono',consolas,'Courier New',monospace\"><span style=\"font-weight: bold\"> Total params: </span><span style=\"color: #00af00; text-decoration-color: #00af00\">101,770</span> (397.54 KB)\n",
       "</pre>\n"
      ],
      "text/plain": [
       "\u001b[1m Total params: \u001b[0m\u001b[38;5;34m101,770\u001b[0m (397.54 KB)\n"
      ]
     },
     "metadata": {},
     "output_type": "display_data"
    },
    {
     "data": {
      "text/html": [
       "<pre style=\"white-space:pre;overflow-x:auto;line-height:normal;font-family:Menlo,'DejaVu Sans Mono',consolas,'Courier New',monospace\"><span style=\"font-weight: bold\"> Trainable params: </span><span style=\"color: #00af00; text-decoration-color: #00af00\">101,770</span> (397.54 KB)\n",
       "</pre>\n"
      ],
      "text/plain": [
       "\u001b[1m Trainable params: \u001b[0m\u001b[38;5;34m101,770\u001b[0m (397.54 KB)\n"
      ]
     },
     "metadata": {},
     "output_type": "display_data"
    },
    {
     "data": {
      "text/html": [
       "<pre style=\"white-space:pre;overflow-x:auto;line-height:normal;font-family:Menlo,'DejaVu Sans Mono',consolas,'Courier New',monospace\"><span style=\"font-weight: bold\"> Non-trainable params: </span><span style=\"color: #00af00; text-decoration-color: #00af00\">0</span> (0.00 B)\n",
       "</pre>\n"
      ],
      "text/plain": [
       "\u001b[1m Non-trainable params: \u001b[0m\u001b[38;5;34m0\u001b[0m (0.00 B)\n"
      ]
     },
     "metadata": {},
     "output_type": "display_data"
    }
   ],
   "source": [
    "model.summary()"
   ]
  },
  {
   "cell_type": "code",
   "execution_count": 13,
   "id": "abadb11e-a63b-4164-87f2-c77f5e461d08",
   "metadata": {},
   "outputs": [],
   "source": [
    "model.compile(optimizer=Adam(),\n",
    "              loss=SparseCategoricalCrossentropy(),\n",
    "              metrics=[SparseCategoricalAccuracy()])"
   ]
  },
  {
   "cell_type": "code",
   "execution_count": 15,
   "id": "a88d9549-e7d4-473b-b8fa-12afc86284ac",
   "metadata": {},
   "outputs": [
    {
     "name": "stdout",
     "output_type": "stream",
     "text": [
      "Epoch 1/5\n",
      "\u001b[1m1875/1875\u001b[0m \u001b[32m━━━━━━━━━━━━━━━━━━━━\u001b[0m\u001b[37m\u001b[0m \u001b[1m13s\u001b[0m 6ms/step - loss: 7.8549 - sparse_categorical_accuracy: 0.8157\n",
      "Epoch 2/5\n",
      "\u001b[1m1875/1875\u001b[0m \u001b[32m━━━━━━━━━━━━━━━━━━━━\u001b[0m\u001b[37m\u001b[0m \u001b[1m11s\u001b[0m 6ms/step - loss: 0.4248 - sparse_categorical_accuracy: 0.8994\n",
      "Epoch 3/5\n",
      "\u001b[1m1875/1875\u001b[0m \u001b[32m━━━━━━━━━━━━━━━━━━━━\u001b[0m\u001b[37m\u001b[0m \u001b[1m10s\u001b[0m 6ms/step - loss: 0.2926 - sparse_categorical_accuracy: 0.9248\n",
      "Epoch 4/5\n",
      "\u001b[1m1875/1875\u001b[0m \u001b[32m━━━━━━━━━━━━━━━━━━━━\u001b[0m\u001b[37m\u001b[0m \u001b[1m11s\u001b[0m 6ms/step - loss: 0.2416 - sparse_categorical_accuracy: 0.9377\n",
      "Epoch 5/5\n",
      "\u001b[1m1875/1875\u001b[0m \u001b[32m━━━━━━━━━━━━━━━━━━━━\u001b[0m\u001b[37m\u001b[0m \u001b[1m10s\u001b[0m 5ms/step - loss: 0.2188 - sparse_categorical_accuracy: 0.9443\n"
     ]
    },
    {
     "data": {
      "text/plain": [
       "<keras.src.callbacks.history.History at 0x12ecd2b4a40>"
      ]
     },
     "execution_count": 15,
     "metadata": {},
     "output_type": "execute_result"
    }
   ],
   "source": [
    "model.fit(x_train, y_train, epochs = 5)"
   ]
  },
  {
   "cell_type": "code",
   "execution_count": 17,
   "id": "e386bce8-9100-45bf-876a-7d9a2605deee",
   "metadata": {},
   "outputs": [
    {
     "name": "stdout",
     "output_type": "stream",
     "text": [
      "\u001b[1m313/313\u001b[0m \u001b[32m━━━━━━━━━━━━━━━━━━━━\u001b[0m\u001b[37m\u001b[0m \u001b[1m2s\u001b[0m 4ms/step - loss: 0.2961 - sparse_categorical_accuracy: 0.9348\n",
      "\n",
      "Test accuracy: 0.9423999786376953\n"
     ]
    }
   ],
   "source": [
    "test_loss, test_acc = model.evaluate(x_test, y_test)\n",
    "print(f\"\\nTest accuracy: {test_acc}\")"
   ]
  },
  {
   "cell_type": "markdown",
   "id": "5575caaa-b89b-462c-b370-fb432970a3ef",
   "metadata": {},
   "source": [
    "# FNN\n",
    "🧠 What is a Feedforward Neural Network?\n",
    "A Feedforward Neural Network (FNN) is an artificial neural network where connections between the nodes do not form a cycle.\n",
    "\n",
    "Data moves strictly in one direction:\n",
    "Input → Hidden Layer(s) → Output\n",
    "\n",
    "There are no loops or feedback connections (unlike RNNs).\n",
    "\n",
    "📦 Architecture of Feedforward Neural Network\n",
    "1. Input Layer:\n",
    "Takes the input features (e.g., pixels of an image, numerical values).\n",
    "\n",
    "2. Hidden Layers:\n",
    "One or more layers where computations happen.\n",
    "\n",
    "Each neuron applies a weighted sum + bias, then an activation function.\n",
    "\n",
    "3. Output Layer:\n",
    "Gives the final output (e.g., classification or regression prediction)."
   ]
  },
  {
   "cell_type": "code",
   "execution_count": 23,
   "id": "325523d3-1e6c-41f2-b888-423d0ecc778f",
   "metadata": {},
   "outputs": [],
   "source": [
    "import tensorflow as tf\n",
    "from tensorflow.keras.models import Sequential\n",
    "from tensorflow.keras.layers import Dense, Flatten\n",
    "from tensorflow.keras.datasets import mnist\n",
    "from tensorflow.keras.utils import to_categorical"
   ]
  },
  {
   "cell_type": "code",
   "execution_count": 25,
   "id": "f0abf838-c98f-4b30-a9bc-8213d1273fb8",
   "metadata": {},
   "outputs": [],
   "source": [
    "(x_train, y_train), (x_test, y_test) = mnist.load_data()\n",
    "x_test = x_test / 255.0\n",
    "y_test = to_categorical(y_test)"
   ]
  },
  {
   "cell_type": "code",
   "execution_count": 27,
   "id": "0dba35fc-8a41-4cab-b0d9-733201079c9d",
   "metadata": {},
   "outputs": [],
   "source": [
    "model_feedforward = Sequential([\n",
    "    Flatten(input_shape=(28, 28)),\n",
    "    Dense(128, activation='relu'),\n",
    "    Dense(64, activation='relu'),\n",
    "    Dense(64, activation='relu'),\n",
    "    Dense(10, activation='softmax')\n",
    "])"
   ]
  },
  {
   "cell_type": "code",
   "execution_count": 29,
   "id": "f462959c-36ed-41c8-9a7d-1599aa48851a",
   "metadata": {},
   "outputs": [
    {
     "data": {
      "text/html": [
       "<pre style=\"white-space:pre;overflow-x:auto;line-height:normal;font-family:Menlo,'DejaVu Sans Mono',consolas,'Courier New',monospace\"><span style=\"font-weight: bold\">Model: \"sequential\"</span>\n",
       "</pre>\n"
      ],
      "text/plain": [
       "\u001b[1mModel: \"sequential\"\u001b[0m\n"
      ]
     },
     "metadata": {},
     "output_type": "display_data"
    },
    {
     "data": {
      "text/html": [
       "<pre style=\"white-space:pre;overflow-x:auto;line-height:normal;font-family:Menlo,'DejaVu Sans Mono',consolas,'Courier New',monospace\">┏━━━━━━━━━━━━━━━━━━━━━━━━━━━━━━━━━━━━━━┳━━━━━━━━━━━━━━━━━━━━━━━━━━━━━┳━━━━━━━━━━━━━━━━━┓\n",
       "┃<span style=\"font-weight: bold\"> Layer (type)                         </span>┃<span style=\"font-weight: bold\"> Output Shape                </span>┃<span style=\"font-weight: bold\">         Param # </span>┃\n",
       "┡━━━━━━━━━━━━━━━━━━━━━━━━━━━━━━━━━━━━━━╇━━━━━━━━━━━━━━━━━━━━━━━━━━━━━╇━━━━━━━━━━━━━━━━━┩\n",
       "│ flatten (<span style=\"color: #0087ff; text-decoration-color: #0087ff\">Flatten</span>)                    │ (<span style=\"color: #00d7ff; text-decoration-color: #00d7ff\">None</span>, <span style=\"color: #00af00; text-decoration-color: #00af00\">784</span>)                 │               <span style=\"color: #00af00; text-decoration-color: #00af00\">0</span> │\n",
       "├──────────────────────────────────────┼─────────────────────────────┼─────────────────┤\n",
       "│ dense (<span style=\"color: #0087ff; text-decoration-color: #0087ff\">Dense</span>)                        │ (<span style=\"color: #00d7ff; text-decoration-color: #00d7ff\">None</span>, <span style=\"color: #00af00; text-decoration-color: #00af00\">128</span>)                 │         <span style=\"color: #00af00; text-decoration-color: #00af00\">100,480</span> │\n",
       "├──────────────────────────────────────┼─────────────────────────────┼─────────────────┤\n",
       "│ dense_1 (<span style=\"color: #0087ff; text-decoration-color: #0087ff\">Dense</span>)                      │ (<span style=\"color: #00d7ff; text-decoration-color: #00d7ff\">None</span>, <span style=\"color: #00af00; text-decoration-color: #00af00\">10</span>)                  │           <span style=\"color: #00af00; text-decoration-color: #00af00\">1,290</span> │\n",
       "└──────────────────────────────────────┴─────────────────────────────┴─────────────────┘\n",
       "</pre>\n"
      ],
      "text/plain": [
       "┏━━━━━━━━━━━━━━━━━━━━━━━━━━━━━━━━━━━━━━┳━━━━━━━━━━━━━━━━━━━━━━━━━━━━━┳━━━━━━━━━━━━━━━━━┓\n",
       "┃\u001b[1m \u001b[0m\u001b[1mLayer (type)                        \u001b[0m\u001b[1m \u001b[0m┃\u001b[1m \u001b[0m\u001b[1mOutput Shape               \u001b[0m\u001b[1m \u001b[0m┃\u001b[1m \u001b[0m\u001b[1m        Param #\u001b[0m\u001b[1m \u001b[0m┃\n",
       "┡━━━━━━━━━━━━━━━━━━━━━━━━━━━━━━━━━━━━━━╇━━━━━━━━━━━━━━━━━━━━━━━━━━━━━╇━━━━━━━━━━━━━━━━━┩\n",
       "│ flatten (\u001b[38;5;33mFlatten\u001b[0m)                    │ (\u001b[38;5;45mNone\u001b[0m, \u001b[38;5;34m784\u001b[0m)                 │               \u001b[38;5;34m0\u001b[0m │\n",
       "├──────────────────────────────────────┼─────────────────────────────┼─────────────────┤\n",
       "│ dense (\u001b[38;5;33mDense\u001b[0m)                        │ (\u001b[38;5;45mNone\u001b[0m, \u001b[38;5;34m128\u001b[0m)                 │         \u001b[38;5;34m100,480\u001b[0m │\n",
       "├──────────────────────────────────────┼─────────────────────────────┼─────────────────┤\n",
       "│ dense_1 (\u001b[38;5;33mDense\u001b[0m)                      │ (\u001b[38;5;45mNone\u001b[0m, \u001b[38;5;34m10\u001b[0m)                  │           \u001b[38;5;34m1,290\u001b[0m │\n",
       "└──────────────────────────────────────┴─────────────────────────────┴─────────────────┘\n"
      ]
     },
     "metadata": {},
     "output_type": "display_data"
    },
    {
     "data": {
      "text/html": [
       "<pre style=\"white-space:pre;overflow-x:auto;line-height:normal;font-family:Menlo,'DejaVu Sans Mono',consolas,'Courier New',monospace\"><span style=\"font-weight: bold\"> Total params: </span><span style=\"color: #00af00; text-decoration-color: #00af00\">305,312</span> (1.16 MB)\n",
       "</pre>\n"
      ],
      "text/plain": [
       "\u001b[1m Total params: \u001b[0m\u001b[38;5;34m305,312\u001b[0m (1.16 MB)\n"
      ]
     },
     "metadata": {},
     "output_type": "display_data"
    },
    {
     "data": {
      "text/html": [
       "<pre style=\"white-space:pre;overflow-x:auto;line-height:normal;font-family:Menlo,'DejaVu Sans Mono',consolas,'Courier New',monospace\"><span style=\"font-weight: bold\"> Trainable params: </span><span style=\"color: #00af00; text-decoration-color: #00af00\">101,770</span> (397.54 KB)\n",
       "</pre>\n"
      ],
      "text/plain": [
       "\u001b[1m Trainable params: \u001b[0m\u001b[38;5;34m101,770\u001b[0m (397.54 KB)\n"
      ]
     },
     "metadata": {},
     "output_type": "display_data"
    },
    {
     "data": {
      "text/html": [
       "<pre style=\"white-space:pre;overflow-x:auto;line-height:normal;font-family:Menlo,'DejaVu Sans Mono',consolas,'Courier New',monospace\"><span style=\"font-weight: bold\"> Non-trainable params: </span><span style=\"color: #00af00; text-decoration-color: #00af00\">0</span> (0.00 B)\n",
       "</pre>\n"
      ],
      "text/plain": [
       "\u001b[1m Non-trainable params: \u001b[0m\u001b[38;5;34m0\u001b[0m (0.00 B)\n"
      ]
     },
     "metadata": {},
     "output_type": "display_data"
    },
    {
     "data": {
      "text/html": [
       "<pre style=\"white-space:pre;overflow-x:auto;line-height:normal;font-family:Menlo,'DejaVu Sans Mono',consolas,'Courier New',monospace\"><span style=\"font-weight: bold\"> Optimizer params: </span><span style=\"color: #00af00; text-decoration-color: #00af00\">203,542</span> (795.09 KB)\n",
       "</pre>\n"
      ],
      "text/plain": [
       "\u001b[1m Optimizer params: \u001b[0m\u001b[38;5;34m203,542\u001b[0m (795.09 KB)\n"
      ]
     },
     "metadata": {},
     "output_type": "display_data"
    }
   ],
   "source": [
    "model.summary()"
   ]
  },
  {
   "cell_type": "code",
   "execution_count": 31,
   "id": "3f548dad-7162-46b1-bcf5-a2f730fa84c4",
   "metadata": {},
   "outputs": [
    {
     "data": {
      "text/html": [
       "<pre style=\"white-space:pre;overflow-x:auto;line-height:normal;font-family:Menlo,'DejaVu Sans Mono',consolas,'Courier New',monospace\"><span style=\"font-weight: bold\">Model: \"sequential_2\"</span>\n",
       "</pre>\n"
      ],
      "text/plain": [
       "\u001b[1mModel: \"sequential_2\"\u001b[0m\n"
      ]
     },
     "metadata": {},
     "output_type": "display_data"
    },
    {
     "data": {
      "text/html": [
       "<pre style=\"white-space:pre;overflow-x:auto;line-height:normal;font-family:Menlo,'DejaVu Sans Mono',consolas,'Courier New',monospace\">┏━━━━━━━━━━━━━━━━━━━━━━━━━━━━━━━━━━━━━━┳━━━━━━━━━━━━━━━━━━━━━━━━━━━━━┳━━━━━━━━━━━━━━━━━┓\n",
       "┃<span style=\"font-weight: bold\"> Layer (type)                         </span>┃<span style=\"font-weight: bold\"> Output Shape                </span>┃<span style=\"font-weight: bold\">         Param # </span>┃\n",
       "┡━━━━━━━━━━━━━━━━━━━━━━━━━━━━━━━━━━━━━━╇━━━━━━━━━━━━━━━━━━━━━━━━━━━━━╇━━━━━━━━━━━━━━━━━┩\n",
       "│ flatten_2 (<span style=\"color: #0087ff; text-decoration-color: #0087ff\">Flatten</span>)                  │ (<span style=\"color: #00d7ff; text-decoration-color: #00d7ff\">None</span>, <span style=\"color: #00af00; text-decoration-color: #00af00\">784</span>)                 │               <span style=\"color: #00af00; text-decoration-color: #00af00\">0</span> │\n",
       "├──────────────────────────────────────┼─────────────────────────────┼─────────────────┤\n",
       "│ dense_6 (<span style=\"color: #0087ff; text-decoration-color: #0087ff\">Dense</span>)                      │ (<span style=\"color: #00d7ff; text-decoration-color: #00d7ff\">None</span>, <span style=\"color: #00af00; text-decoration-color: #00af00\">128</span>)                 │         <span style=\"color: #00af00; text-decoration-color: #00af00\">100,480</span> │\n",
       "├──────────────────────────────────────┼─────────────────────────────┼─────────────────┤\n",
       "│ dense_7 (<span style=\"color: #0087ff; text-decoration-color: #0087ff\">Dense</span>)                      │ (<span style=\"color: #00d7ff; text-decoration-color: #00d7ff\">None</span>, <span style=\"color: #00af00; text-decoration-color: #00af00\">64</span>)                  │           <span style=\"color: #00af00; text-decoration-color: #00af00\">8,256</span> │\n",
       "├──────────────────────────────────────┼─────────────────────────────┼─────────────────┤\n",
       "│ dense_8 (<span style=\"color: #0087ff; text-decoration-color: #0087ff\">Dense</span>)                      │ (<span style=\"color: #00d7ff; text-decoration-color: #00d7ff\">None</span>, <span style=\"color: #00af00; text-decoration-color: #00af00\">64</span>)                  │           <span style=\"color: #00af00; text-decoration-color: #00af00\">4,160</span> │\n",
       "├──────────────────────────────────────┼─────────────────────────────┼─────────────────┤\n",
       "│ dense_9 (<span style=\"color: #0087ff; text-decoration-color: #0087ff\">Dense</span>)                      │ (<span style=\"color: #00d7ff; text-decoration-color: #00d7ff\">None</span>, <span style=\"color: #00af00; text-decoration-color: #00af00\">10</span>)                  │             <span style=\"color: #00af00; text-decoration-color: #00af00\">650</span> │\n",
       "└──────────────────────────────────────┴─────────────────────────────┴─────────────────┘\n",
       "</pre>\n"
      ],
      "text/plain": [
       "┏━━━━━━━━━━━━━━━━━━━━━━━━━━━━━━━━━━━━━━┳━━━━━━━━━━━━━━━━━━━━━━━━━━━━━┳━━━━━━━━━━━━━━━━━┓\n",
       "┃\u001b[1m \u001b[0m\u001b[1mLayer (type)                        \u001b[0m\u001b[1m \u001b[0m┃\u001b[1m \u001b[0m\u001b[1mOutput Shape               \u001b[0m\u001b[1m \u001b[0m┃\u001b[1m \u001b[0m\u001b[1m        Param #\u001b[0m\u001b[1m \u001b[0m┃\n",
       "┡━━━━━━━━━━━━━━━━━━━━━━━━━━━━━━━━━━━━━━╇━━━━━━━━━━━━━━━━━━━━━━━━━━━━━╇━━━━━━━━━━━━━━━━━┩\n",
       "│ flatten_2 (\u001b[38;5;33mFlatten\u001b[0m)                  │ (\u001b[38;5;45mNone\u001b[0m, \u001b[38;5;34m784\u001b[0m)                 │               \u001b[38;5;34m0\u001b[0m │\n",
       "├──────────────────────────────────────┼─────────────────────────────┼─────────────────┤\n",
       "│ dense_6 (\u001b[38;5;33mDense\u001b[0m)                      │ (\u001b[38;5;45mNone\u001b[0m, \u001b[38;5;34m128\u001b[0m)                 │         \u001b[38;5;34m100,480\u001b[0m │\n",
       "├──────────────────────────────────────┼─────────────────────────────┼─────────────────┤\n",
       "│ dense_7 (\u001b[38;5;33mDense\u001b[0m)                      │ (\u001b[38;5;45mNone\u001b[0m, \u001b[38;5;34m64\u001b[0m)                  │           \u001b[38;5;34m8,256\u001b[0m │\n",
       "├──────────────────────────────────────┼─────────────────────────────┼─────────────────┤\n",
       "│ dense_8 (\u001b[38;5;33mDense\u001b[0m)                      │ (\u001b[38;5;45mNone\u001b[0m, \u001b[38;5;34m64\u001b[0m)                  │           \u001b[38;5;34m4,160\u001b[0m │\n",
       "├──────────────────────────────────────┼─────────────────────────────┼─────────────────┤\n",
       "│ dense_9 (\u001b[38;5;33mDense\u001b[0m)                      │ (\u001b[38;5;45mNone\u001b[0m, \u001b[38;5;34m10\u001b[0m)                  │             \u001b[38;5;34m650\u001b[0m │\n",
       "└──────────────────────────────────────┴─────────────────────────────┴─────────────────┘\n"
      ]
     },
     "metadata": {},
     "output_type": "display_data"
    },
    {
     "data": {
      "text/html": [
       "<pre style=\"white-space:pre;overflow-x:auto;line-height:normal;font-family:Menlo,'DejaVu Sans Mono',consolas,'Courier New',monospace\"><span style=\"font-weight: bold\"> Total params: </span><span style=\"color: #00af00; text-decoration-color: #00af00\">113,546</span> (443.54 KB)\n",
       "</pre>\n"
      ],
      "text/plain": [
       "\u001b[1m Total params: \u001b[0m\u001b[38;5;34m113,546\u001b[0m (443.54 KB)\n"
      ]
     },
     "metadata": {},
     "output_type": "display_data"
    },
    {
     "data": {
      "text/html": [
       "<pre style=\"white-space:pre;overflow-x:auto;line-height:normal;font-family:Menlo,'DejaVu Sans Mono',consolas,'Courier New',monospace\"><span style=\"font-weight: bold\"> Trainable params: </span><span style=\"color: #00af00; text-decoration-color: #00af00\">113,546</span> (443.54 KB)\n",
       "</pre>\n"
      ],
      "text/plain": [
       "\u001b[1m Trainable params: \u001b[0m\u001b[38;5;34m113,546\u001b[0m (443.54 KB)\n"
      ]
     },
     "metadata": {},
     "output_type": "display_data"
    },
    {
     "data": {
      "text/html": [
       "<pre style=\"white-space:pre;overflow-x:auto;line-height:normal;font-family:Menlo,'DejaVu Sans Mono',consolas,'Courier New',monospace\"><span style=\"font-weight: bold\"> Non-trainable params: </span><span style=\"color: #00af00; text-decoration-color: #00af00\">0</span> (0.00 B)\n",
       "</pre>\n"
      ],
      "text/plain": [
       "\u001b[1m Non-trainable params: \u001b[0m\u001b[38;5;34m0\u001b[0m (0.00 B)\n"
      ]
     },
     "metadata": {},
     "output_type": "display_data"
    }
   ],
   "source": [
    "model_feedforward_new = Sequential([\n",
    "    Flatten(input_shape=(28, 28)),\n",
    "    Dense(128, activation='relu'),\n",
    "    Dense(64, activation='relu'),\n",
    "    Dense(64, activation='relu'),\n",
    "    Dense(10, activation='softmax')\n",
    "])\n",
    "\n",
    "model_feedforward_new.summary()"
   ]
  },
  {
   "cell_type": "code",
   "execution_count": 33,
   "id": "36207d07-9431-42c5-b2aa-b77abcd2121e",
   "metadata": {},
   "outputs": [],
   "source": [
    "model_feedforward.compile(optimizer='adam',\n",
    "                          loss='categorical_crossentropy',\n",
    "                          metrics=['accuracy'])"
   ]
  },
  {
   "cell_type": "code",
   "execution_count": 35,
   "id": "aa801591-62b2-4855-bf73-9f3f2408f001",
   "metadata": {},
   "outputs": [
    {
     "name": "stdout",
     "output_type": "stream",
     "text": [
      "\u001b[1m313/313\u001b[0m \u001b[32m━━━━━━━━━━━━━━━━━━━━\u001b[0m\u001b[37m\u001b[0m \u001b[1m2s\u001b[0m 4ms/step - accuracy: 0.0912 - loss: 2.3338\n",
      "Feedforward Only → Accuracy: 0.0900\n"
     ]
    }
   ],
   "source": [
    "loss_ff, acc_ff = model_feedforward.evaluate(x_test, y_test)\n",
    "print(f\"Feedforward Only → Accuracy: {acc_ff:.4f}\")"
   ]
  },
  {
   "cell_type": "markdown",
   "id": "5bd85099-d803-49d2-88f5-5399d9ee7a12",
   "metadata": {},
   "source": [
    "# BACK PROPAGATION\n",
    "\n",
    "Backpropagation is an optimization technique used in training neural networks. It helps in minimizing the loss function by updating the weights of the network using gradient descent.\n",
    "\n",
    "🔁 How Backpropagation Works (Step-by-Step)\n",
    "Let’s break it into 4 major steps:\n",
    "1. Forward Pass\n",
    "In this step, inputs are passed through the network:\n",
    "\n",
    "Inputs \n",
    "𝑥\n",
    "x go through weights \n",
    "𝑤\n",
    "w\n",
    "\n",
    "Each neuron applies an activation function (like sigmoid, ReLU)\n",
    "\n",
    "The final output is predicted: \n",
    "𝑦\n",
    "^\n",
    "y\n",
    "^\n",
    "​\n",
    " \n",
    "\n",
    "👉 The result is compared with the actual target \n",
    "𝑦\n",
    "y, and the loss is calculated using a loss function (e.g., Mean Squared Error or Cross-Entropy Loss).\n",
    "\n",
    "2. Compute the Loss (Error)\n",
    "This step quantifies how far off the prediction was.\n",
    "Example loss function (Mean Squared Error):\n",
    "\n",
    "𝐿\n",
    "=\n",
    "1\n",
    "2\n",
    "(\n",
    "𝑦\n",
    "−\n",
    "𝑦\n",
    "^\n",
    ")\n",
    "2\n",
    "L= \n",
    "2\n",
    "1\n",
    "​\n",
    " (y− \n",
    "y\n",
    "^\n",
    "​\n",
    " ) \n",
    "2\n",
    " \n",
    "3. Backward Pass (Backpropagation)\n",
    "Now, we calculate gradients of the loss with respect to each weight (using the chain rule from calculus).\n",
    "\n",
    "Here’s what happens:\n",
    "\n",
    "We propagate the error backward from the output layer to the hidden layers.\n",
    "\n",
    "For each weight \n",
    "𝑤\n",
    "w, compute the partial derivative of the loss \n",
    "𝐿\n",
    "L with respect to \n",
    "𝑤\n",
    "w:\n",
    "\n",
    "∂\n",
    "𝐿\n",
    "∂\n",
    "𝑤\n",
    "∂w\n",
    "∂L\n",
    "​\n",
    " \n",
    "This tells us how much changing a weight will affect the error.\n",
    "\n",
    "Chain Rule Example:\n",
    "If output \n",
    "𝑦\n",
    "^\n",
    "=\n",
    "𝑓\n",
    "(\n",
    "𝑧\n",
    ")\n",
    "y\n",
    "^\n",
    "​\n",
    " =f(z) where \n",
    "𝑧\n",
    "=\n",
    "𝑤\n",
    "𝑥\n",
    "+\n",
    "𝑏\n",
    "z=wx+b, then\n",
    "\n",
    "𝑑\n",
    "𝐿\n",
    "𝑑\n",
    "𝑤\n",
    "=\n",
    "𝑑\n",
    "𝐿\n",
    "𝑑\n",
    "𝑦\n",
    "^\n",
    "⋅\n",
    "𝑑\n",
    "𝑦\n",
    "^\n",
    "𝑑\n",
    "𝑧\n",
    "⋅\n",
    "𝑑\n",
    "𝑧\n",
    "𝑑\n",
    "𝑤\n",
    "dw\n",
    "dL\n",
    "​\n",
    " = \n",
    "d \n",
    "y\n",
    "^\n",
    "​\n",
    " \n",
    "dL\n",
    "​\n",
    " ⋅ \n",
    "dz\n",
    "d \n",
    "y\n",
    "^\n",
    "​\n",
    " \n",
    "​\n",
    " ⋅ \n",
    "dw\n",
    "dz\n",
    "​\n",
    " \n",
    "4. Update the Weights\n",
    "Using Gradient Descent, we update each weight in the direction that reduces the loss:\n",
    "\n",
    "𝑤\n",
    "new\n",
    "=\n",
    "𝑤\n",
    "old\n",
    "−\n",
    "𝜂\n",
    "⋅\n",
    "∂\n",
    "𝐿\n",
    "∂\n",
    "𝑤\n",
    "w \n",
    "new\n",
    "​\n",
    " =w \n",
    "old\n",
    "​\n",
    " −η⋅ \n",
    "∂w\n",
    "∂L\n",
    "​\n",
    " \n",
    "Where:\n",
    "\n",
    "𝜂\n",
    "η = learning rate (a small number like 0.01)\n",
    "\n",
    "∂\n",
    "𝐿\n",
    "∂\n",
    "𝑤\n",
    "∂w\n",
    "∂L\n",
    "​\n",
    "  = gradient of loss w.r.t weight\n",
    "\n",
    "This process is repeated for multiple epochs until the model performs well.\n",
    "\n",
    "🎯 Intuition Behind Backpropagation:\n",
    "If the model predicts poorly → error is large\n",
    "\n",
    "Backpropagation figures out which weights contributed most to that error\n",
    "\n",
    "Then it slightly tweaks those weights to reduce the error next time\n",
    "\n",
    "🧩 Mathematical Intuition (1 Neuron):\n",
    "Let’s say a single neuron:\n",
    "\n",
    "Input \n",
    "𝑥\n",
    "x\n",
    "\n",
    "Weight \n",
    "𝑤\n",
    "w\n",
    "\n",
    "Output: \n",
    "𝑦\n",
    "^\n",
    "=\n",
    "𝜎\n",
    "(\n",
    "𝑤\n",
    "𝑥\n",
    "+\n",
    "𝑏\n",
    ")\n",
    "y\n",
    "^\n",
    "​\n",
    " =σ(wx+b)\n",
    "\n",
    "True value \n",
    "𝑦\n",
    "y\n",
    "\n",
    "Loss: \n",
    "𝐿\n",
    "=\n",
    "1\n",
    "2\n",
    "(\n",
    "𝑦\n",
    "−\n",
    "𝑦\n",
    "^\n",
    ")\n",
    "2\n",
    "L= \n",
    "2\n",
    "1\n",
    "​\n",
    " (y− \n",
    "y\n",
    "^\n",
    "​\n",
    " ) \n",
    "2\n",
    " \n",
    "\n",
    "Apply the chain rule:\n",
    "\n",
    "∂\n",
    "𝐿\n",
    "∂\n",
    "𝑤\n",
    "=\n",
    "∂\n",
    "𝐿\n",
    "∂\n",
    "𝑦\n",
    "^\n",
    "⋅\n",
    "∂\n",
    "𝑦\n",
    "^\n",
    "∂\n",
    "𝑧\n",
    "⋅\n",
    "∂\n",
    "𝑧\n",
    "∂\n",
    "𝑤\n",
    "∂w\n",
    "∂L\n",
    "​\n",
    " = \n",
    "∂ \n",
    "y\n",
    "^\n",
    "​\n",
    " \n",
    "∂L\n",
    "​\n",
    " ⋅ \n",
    "∂z\n",
    "∂ \n",
    "y\n",
    "^\n",
    "​\n",
    " \n",
    "​\n",
    " ⋅ \n",
    "∂w\n",
    "∂z\n",
    "​\n",
    " \n",
    "Where \n",
    "𝑧\n",
    "=\n",
    "𝑤\n",
    "𝑥\n",
    "+\n",
    "𝑏\n",
    "z=wx+b, and \n",
    "𝑦\n",
    "^\n",
    "=\n",
    "𝜎\n",
    "(\n",
    "𝑧\n",
    ")\n",
    "y\n",
    "^\n",
    "​\n",
    " =σ(z)\n",
    "\n",
    "Each derivative tells us:\n",
    "\n",
    "How sensitive the loss is to the output\n",
    "\n",
    "How sensitive the output is to the neuron’s input\n",
    "\n",
    "How sensitive the input is to the weight\n",
    "\n",
    "🏗️ Backpropagation in Deep Networks\n",
    "In multi-layer networks:\n",
    "\n",
    "Backpropagation moves from the output layer → to hidden layers → to input layer\n",
    "\n",
    "Each layer passes back the error it received, adjusted by its own weights\n",
    "\n",
    "🛠️ Backpropagation Key Ingredients:\n",
    "Component\tRole\n",
    "Loss Function\tMeasures how bad the prediction is\n",
    "Activation Function\tAdds non-linearity (e.g. sigmoid, ReLU)\n",
    "Chain Rule\tUsed to calculate derivatives through layers\n",
    "Gradient Descent\tOptimization to update weights"
   ]
  },
  {
   "cell_type": "code",
   "execution_count": 39,
   "id": "833c5434-b415-4ce8-86cb-849267aef210",
   "metadata": {},
   "outputs": [],
   "source": [
    "model_backprop = Sequential([\n",
    "    Flatten(input_shape=(28, 28)),\n",
    "    Dense(128, activation='relu'),\n",
    "    Dense(64, activation='relu'),\n",
    "    Dense(64, activation='relu'),\n",
    "    Dense(10, activation='softmax')\n",
    "])"
   ]
  },
  {
   "cell_type": "code",
   "execution_count": 41,
   "id": "ead62888-db5c-486c-b1ce-d3cb1faae0cf",
   "metadata": {},
   "outputs": [],
   "source": [
    "model_backprop.compile(optimizer='adam',\n",
    "                       loss='categorical_crossentropy',\n",
    "                       metrics=['accuracy'])"
   ]
  },
  {
   "cell_type": "code",
   "execution_count": 43,
   "id": "9dbe7734-02ac-473b-a2fa-780e0159cdc0",
   "metadata": {},
   "outputs": [
    {
     "data": {
      "text/html": [
       "<pre style=\"white-space:pre;overflow-x:auto;line-height:normal;font-family:Menlo,'DejaVu Sans Mono',consolas,'Courier New',monospace\"><span style=\"font-weight: bold\">Model: \"sequential\"</span>\n",
       "</pre>\n"
      ],
      "text/plain": [
       "\u001b[1mModel: \"sequential\"\u001b[0m\n"
      ]
     },
     "metadata": {},
     "output_type": "display_data"
    },
    {
     "data": {
      "text/html": [
       "<pre style=\"white-space:pre;overflow-x:auto;line-height:normal;font-family:Menlo,'DejaVu Sans Mono',consolas,'Courier New',monospace\">┏━━━━━━━━━━━━━━━━━━━━━━━━━━━━━━━━━━━━━━┳━━━━━━━━━━━━━━━━━━━━━━━━━━━━━┳━━━━━━━━━━━━━━━━━┓\n",
       "┃<span style=\"font-weight: bold\"> Layer (type)                         </span>┃<span style=\"font-weight: bold\"> Output Shape                </span>┃<span style=\"font-weight: bold\">         Param # </span>┃\n",
       "┡━━━━━━━━━━━━━━━━━━━━━━━━━━━━━━━━━━━━━━╇━━━━━━━━━━━━━━━━━━━━━━━━━━━━━╇━━━━━━━━━━━━━━━━━┩\n",
       "│ flatten (<span style=\"color: #0087ff; text-decoration-color: #0087ff\">Flatten</span>)                    │ (<span style=\"color: #00d7ff; text-decoration-color: #00d7ff\">None</span>, <span style=\"color: #00af00; text-decoration-color: #00af00\">784</span>)                 │               <span style=\"color: #00af00; text-decoration-color: #00af00\">0</span> │\n",
       "├──────────────────────────────────────┼─────────────────────────────┼─────────────────┤\n",
       "│ dense (<span style=\"color: #0087ff; text-decoration-color: #0087ff\">Dense</span>)                        │ (<span style=\"color: #00d7ff; text-decoration-color: #00d7ff\">None</span>, <span style=\"color: #00af00; text-decoration-color: #00af00\">128</span>)                 │         <span style=\"color: #00af00; text-decoration-color: #00af00\">100,480</span> │\n",
       "├──────────────────────────────────────┼─────────────────────────────┼─────────────────┤\n",
       "│ dense_1 (<span style=\"color: #0087ff; text-decoration-color: #0087ff\">Dense</span>)                      │ (<span style=\"color: #00d7ff; text-decoration-color: #00d7ff\">None</span>, <span style=\"color: #00af00; text-decoration-color: #00af00\">10</span>)                  │           <span style=\"color: #00af00; text-decoration-color: #00af00\">1,290</span> │\n",
       "└──────────────────────────────────────┴─────────────────────────────┴─────────────────┘\n",
       "</pre>\n"
      ],
      "text/plain": [
       "┏━━━━━━━━━━━━━━━━━━━━━━━━━━━━━━━━━━━━━━┳━━━━━━━━━━━━━━━━━━━━━━━━━━━━━┳━━━━━━━━━━━━━━━━━┓\n",
       "┃\u001b[1m \u001b[0m\u001b[1mLayer (type)                        \u001b[0m\u001b[1m \u001b[0m┃\u001b[1m \u001b[0m\u001b[1mOutput Shape               \u001b[0m\u001b[1m \u001b[0m┃\u001b[1m \u001b[0m\u001b[1m        Param #\u001b[0m\u001b[1m \u001b[0m┃\n",
       "┡━━━━━━━━━━━━━━━━━━━━━━━━━━━━━━━━━━━━━━╇━━━━━━━━━━━━━━━━━━━━━━━━━━━━━╇━━━━━━━━━━━━━━━━━┩\n",
       "│ flatten (\u001b[38;5;33mFlatten\u001b[0m)                    │ (\u001b[38;5;45mNone\u001b[0m, \u001b[38;5;34m784\u001b[0m)                 │               \u001b[38;5;34m0\u001b[0m │\n",
       "├──────────────────────────────────────┼─────────────────────────────┼─────────────────┤\n",
       "│ dense (\u001b[38;5;33mDense\u001b[0m)                        │ (\u001b[38;5;45mNone\u001b[0m, \u001b[38;5;34m128\u001b[0m)                 │         \u001b[38;5;34m100,480\u001b[0m │\n",
       "├──────────────────────────────────────┼─────────────────────────────┼─────────────────┤\n",
       "│ dense_1 (\u001b[38;5;33mDense\u001b[0m)                      │ (\u001b[38;5;45mNone\u001b[0m, \u001b[38;5;34m10\u001b[0m)                  │           \u001b[38;5;34m1,290\u001b[0m │\n",
       "└──────────────────────────────────────┴─────────────────────────────┴─────────────────┘\n"
      ]
     },
     "metadata": {},
     "output_type": "display_data"
    },
    {
     "data": {
      "text/html": [
       "<pre style=\"white-space:pre;overflow-x:auto;line-height:normal;font-family:Menlo,'DejaVu Sans Mono',consolas,'Courier New',monospace\"><span style=\"font-weight: bold\"> Total params: </span><span style=\"color: #00af00; text-decoration-color: #00af00\">305,312</span> (1.16 MB)\n",
       "</pre>\n"
      ],
      "text/plain": [
       "\u001b[1m Total params: \u001b[0m\u001b[38;5;34m305,312\u001b[0m (1.16 MB)\n"
      ]
     },
     "metadata": {},
     "output_type": "display_data"
    },
    {
     "data": {
      "text/html": [
       "<pre style=\"white-space:pre;overflow-x:auto;line-height:normal;font-family:Menlo,'DejaVu Sans Mono',consolas,'Courier New',monospace\"><span style=\"font-weight: bold\"> Trainable params: </span><span style=\"color: #00af00; text-decoration-color: #00af00\">101,770</span> (397.54 KB)\n",
       "</pre>\n"
      ],
      "text/plain": [
       "\u001b[1m Trainable params: \u001b[0m\u001b[38;5;34m101,770\u001b[0m (397.54 KB)\n"
      ]
     },
     "metadata": {},
     "output_type": "display_data"
    },
    {
     "data": {
      "text/html": [
       "<pre style=\"white-space:pre;overflow-x:auto;line-height:normal;font-family:Menlo,'DejaVu Sans Mono',consolas,'Courier New',monospace\"><span style=\"font-weight: bold\"> Non-trainable params: </span><span style=\"color: #00af00; text-decoration-color: #00af00\">0</span> (0.00 B)\n",
       "</pre>\n"
      ],
      "text/plain": [
       "\u001b[1m Non-trainable params: \u001b[0m\u001b[38;5;34m0\u001b[0m (0.00 B)\n"
      ]
     },
     "metadata": {},
     "output_type": "display_data"
    },
    {
     "data": {
      "text/html": [
       "<pre style=\"white-space:pre;overflow-x:auto;line-height:normal;font-family:Menlo,'DejaVu Sans Mono',consolas,'Courier New',monospace\"><span style=\"font-weight: bold\"> Optimizer params: </span><span style=\"color: #00af00; text-decoration-color: #00af00\">203,542</span> (795.09 KB)\n",
       "</pre>\n"
      ],
      "text/plain": [
       "\u001b[1m Optimizer params: \u001b[0m\u001b[38;5;34m203,542\u001b[0m (795.09 KB)\n"
      ]
     },
     "metadata": {},
     "output_type": "display_data"
    }
   ],
   "source": [
    "model.summary()"
   ]
  },
  {
   "cell_type": "code",
   "execution_count": null,
   "id": "d2369e84-0a03-4007-930d-7024357fbf67",
   "metadata": {},
   "outputs": [],
   "source": [
    "(x_train, y_train), (x_test, y_test) = mnist.load_data()\n",
    "x_test = x_test / 255.0\n",
    "y_test = to_categorical(y_test)"
   ]
  },
  {
   "cell_type": "code",
   "execution_count": 45,
   "id": "550373f3-277c-42e5-92f4-b8a640875d3f",
   "metadata": {},
   "outputs": [
    {
     "name": "stdout",
     "output_type": "stream",
     "text": [
      "Epoch 1/5\n",
      "\u001b[1m938/938\u001b[0m \u001b[32m━━━━━━━━━━━━━━━━━━━━\u001b[0m\u001b[37m\u001b[0m \u001b[1m10s\u001b[0m 7ms/step - accuracy: 0.8497 - loss: 0.5090\n",
      "Epoch 2/5\n",
      "\u001b[1m938/938\u001b[0m \u001b[32m━━━━━━━━━━━━━━━━━━━━\u001b[0m\u001b[37m\u001b[0m \u001b[1m6s\u001b[0m 7ms/step - accuracy: 0.9655 - loss: 0.1150\n",
      "Epoch 3/5\n",
      "\u001b[1m938/938\u001b[0m \u001b[32m━━━━━━━━━━━━━━━━━━━━\u001b[0m\u001b[37m\u001b[0m \u001b[1m7s\u001b[0m 7ms/step - accuracy: 0.9774 - loss: 0.0743\n",
      "Epoch 4/5\n",
      "\u001b[1m938/938\u001b[0m \u001b[32m━━━━━━━━━━━━━━━━━━━━\u001b[0m\u001b[37m\u001b[0m \u001b[1m7s\u001b[0m 7ms/step - accuracy: 0.9814 - loss: 0.0581\n",
      "Epoch 5/5\n",
      "\u001b[1m938/938\u001b[0m \u001b[32m━━━━━━━━━━━━━━━━━━━━\u001b[0m\u001b[37m\u001b[0m \u001b[1m7s\u001b[0m 7ms/step - accuracy: 0.9854 - loss: 0.0442\n"
     ]
    },
    {
     "data": {
      "text/plain": [
       "<keras.src.callbacks.history.History at 0x12ecd548dd0>"
      ]
     },
     "execution_count": 45,
     "metadata": {},
     "output_type": "execute_result"
    }
   ],
   "source": [
    "model_backprop.fit(x_train / 255.0, to_categorical(y_train),\n",
    "                   epochs=5, batch_size=64)"
   ]
  },
  {
   "cell_type": "code",
   "execution_count": 47,
   "id": "de8d2a0b-f723-4432-b9dd-aaf27602918a",
   "metadata": {},
   "outputs": [
    {
     "name": "stdout",
     "output_type": "stream",
     "text": [
      "\u001b[1m313/313\u001b[0m \u001b[32m━━━━━━━━━━━━━━━━━━━━\u001b[0m\u001b[37m\u001b[0m \u001b[1m2s\u001b[0m 4ms/step - accuracy: 0.9700 - loss: 0.1028\n",
      "Backpropagation → Accuracy: 0.9756\n"
     ]
    }
   ],
   "source": [
    "loss_bp, acc_bp = model_backprop.evaluate(x_test, y_test)\n",
    "print(f\"Backpropagation → Accuracy: {acc_bp:.4f}\")"
   ]
  },
  {
   "cell_type": "code",
   "execution_count": null,
   "id": "019a6adb-81bc-4a01-a711-124a07bb89f0",
   "metadata": {},
   "outputs": [],
   "source": []
  },
  {
   "cell_type": "code",
   "execution_count": null,
   "id": "d8453ec2-1546-42cb-91c7-12b0c16460ec",
   "metadata": {},
   "outputs": [],
   "source": []
  },
  {
   "cell_type": "code",
   "execution_count": null,
   "id": "091b3839-138c-4564-b251-0d09a00e88a3",
   "metadata": {},
   "outputs": [],
   "source": []
  },
  {
   "cell_type": "code",
   "execution_count": null,
   "id": "08ed6d71-ff5c-4c76-89d6-aa32ea33b430",
   "metadata": {},
   "outputs": [],
   "source": []
  }
 ],
 "metadata": {
  "kernelspec": {
   "display_name": "Python [conda env:base] *",
   "language": "python",
   "name": "conda-base-py"
  },
  "language_info": {
   "codemirror_mode": {
    "name": "ipython",
    "version": 3
   },
   "file_extension": ".py",
   "mimetype": "text/x-python",
   "name": "python",
   "nbconvert_exporter": "python",
   "pygments_lexer": "ipython3",
   "version": "3.12.7"
  }
 },
 "nbformat": 4,
 "nbformat_minor": 5
}
